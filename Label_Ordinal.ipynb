{
 "cells": [
  {
   "cell_type": "markdown",
   "id": "cd4c42e8-a3cf-40bc-8732-b198570f65b1",
   "metadata": {},
   "source": [
    "## Data Encoding\n",
    "\n",
    "1. Nominal/OHE Encoding\n",
    "2. Label and Ordinal Encoding\n",
    "3. Target Guided Ordinal Encoding "
   ]
  },
  {
   "cell_type": "markdown",
   "id": "29d6cf6d-7d70-4980-b9c0-3514a4fd89ca",
   "metadata": {},
   "source": [
    "### Nominal/OHE Encoding\n",
    "One hot encoding, also known as nominal encoding, is a technique used to represent categorical data as numerical data, which is more suitable for machine learning algorithms. In this technique, each category is represented as a binary vector where each bit corresponds to a unique category. For example, if we have a categorical variable \"color\" with three possible values (red, green, blue), we can represent it using one hot encoding as follows:\n",
    "\n",
    "1. Red: [1, 0, 0]\n",
    "2. Green: [0, 1, 0]\n",
    "3. Blue: [0, 0, 1]"
   ]
  },
  {
   "cell_type": "code",
   "execution_count": 6,
   "id": "878ce16a-6d99-4ac3-b4f8-09f0a76cae6b",
   "metadata": {},
   "outputs": [],
   "source": [
    "import pandas as pd\n",
    "from sklearn.preprocessing import OneHotEncoder\n",
    "df=pd.DataFrame({\n",
    "    'color':['red','blue','green','green','red','blue']\n",
    "})"
   ]
  },
  {
   "cell_type": "code",
   "execution_count": 7,
   "id": "7f9f2fd9-9ca3-4edb-ae4b-58dd734aeb32",
   "metadata": {},
   "outputs": [
    {
     "data": {
      "text/html": [
       "<div>\n",
       "<style scoped>\n",
       "    .dataframe tbody tr th:only-of-type {\n",
       "        vertical-align: middle;\n",
       "    }\n",
       "\n",
       "    .dataframe tbody tr th {\n",
       "        vertical-align: top;\n",
       "    }\n",
       "\n",
       "    .dataframe thead th {\n",
       "        text-align: right;\n",
       "    }\n",
       "</style>\n",
       "<table border=\"1\" class=\"dataframe\">\n",
       "  <thead>\n",
       "    <tr style=\"text-align: right;\">\n",
       "      <th></th>\n",
       "      <th>color</th>\n",
       "    </tr>\n",
       "  </thead>\n",
       "  <tbody>\n",
       "    <tr>\n",
       "      <th>0</th>\n",
       "      <td>red</td>\n",
       "    </tr>\n",
       "    <tr>\n",
       "      <th>1</th>\n",
       "      <td>blue</td>\n",
       "    </tr>\n",
       "    <tr>\n",
       "      <th>2</th>\n",
       "      <td>green</td>\n",
       "    </tr>\n",
       "    <tr>\n",
       "      <th>3</th>\n",
       "      <td>green</td>\n",
       "    </tr>\n",
       "    <tr>\n",
       "      <th>4</th>\n",
       "      <td>red</td>\n",
       "    </tr>\n",
       "  </tbody>\n",
       "</table>\n",
       "</div>"
      ],
      "text/plain": [
       "   color\n",
       "0    red\n",
       "1   blue\n",
       "2  green\n",
       "3  green\n",
       "4    red"
      ]
     },
     "execution_count": 7,
     "metadata": {},
     "output_type": "execute_result"
    }
   ],
   "source": [
    "df.head()"
   ]
  },
  {
   "cell_type": "code",
   "execution_count": 8,
   "id": "78641b1b-84cc-4d68-9483-05b4677ac088",
   "metadata": {},
   "outputs": [],
   "source": [
    "##create an instance of Onehotencoder\n",
    "encoder=OneHotEncoder()\n"
   ]
  },
  {
   "cell_type": "code",
   "execution_count": 12,
   "id": "84b68528-330f-4482-af12-c5ddbab81c55",
   "metadata": {},
   "outputs": [],
   "source": [
    "##perform fit and transform \n",
    "encoded=encoder.fit_transform(df[['color']]).toarray()"
   ]
  },
  {
   "cell_type": "code",
   "execution_count": 14,
   "id": "11c2c4b3-ea5b-4a23-83fe-38640359415f",
   "metadata": {},
   "outputs": [],
   "source": [
    "encoder_df = pd.DataFrame(encoded,columns=encoder.get_feature_names_out())"
   ]
  },
  {
   "cell_type": "code",
   "execution_count": 15,
   "id": "7ac628b4-4517-402a-96d4-1d50949e1441",
   "metadata": {},
   "outputs": [
    {
     "data": {
      "text/html": [
       "<div>\n",
       "<style scoped>\n",
       "    .dataframe tbody tr th:only-of-type {\n",
       "        vertical-align: middle;\n",
       "    }\n",
       "\n",
       "    .dataframe tbody tr th {\n",
       "        vertical-align: top;\n",
       "    }\n",
       "\n",
       "    .dataframe thead th {\n",
       "        text-align: right;\n",
       "    }\n",
       "</style>\n",
       "<table border=\"1\" class=\"dataframe\">\n",
       "  <thead>\n",
       "    <tr style=\"text-align: right;\">\n",
       "      <th></th>\n",
       "      <th>color_blue</th>\n",
       "      <th>color_green</th>\n",
       "      <th>color_red</th>\n",
       "    </tr>\n",
       "  </thead>\n",
       "  <tbody>\n",
       "    <tr>\n",
       "      <th>0</th>\n",
       "      <td>0.0</td>\n",
       "      <td>0.0</td>\n",
       "      <td>1.0</td>\n",
       "    </tr>\n",
       "    <tr>\n",
       "      <th>1</th>\n",
       "      <td>1.0</td>\n",
       "      <td>0.0</td>\n",
       "      <td>0.0</td>\n",
       "    </tr>\n",
       "    <tr>\n",
       "      <th>2</th>\n",
       "      <td>0.0</td>\n",
       "      <td>1.0</td>\n",
       "      <td>0.0</td>\n",
       "    </tr>\n",
       "    <tr>\n",
       "      <th>3</th>\n",
       "      <td>0.0</td>\n",
       "      <td>1.0</td>\n",
       "      <td>0.0</td>\n",
       "    </tr>\n",
       "    <tr>\n",
       "      <th>4</th>\n",
       "      <td>0.0</td>\n",
       "      <td>0.0</td>\n",
       "      <td>1.0</td>\n",
       "    </tr>\n",
       "    <tr>\n",
       "      <th>5</th>\n",
       "      <td>1.0</td>\n",
       "      <td>0.0</td>\n",
       "      <td>0.0</td>\n",
       "    </tr>\n",
       "  </tbody>\n",
       "</table>\n",
       "</div>"
      ],
      "text/plain": [
       "   color_blue  color_green  color_red\n",
       "0         0.0          0.0        1.0\n",
       "1         1.0          0.0        0.0\n",
       "2         0.0          1.0        0.0\n",
       "3         0.0          1.0        0.0\n",
       "4         0.0          0.0        1.0\n",
       "5         1.0          0.0        0.0"
      ]
     },
     "execution_count": 15,
     "metadata": {},
     "output_type": "execute_result"
    }
   ],
   "source": [
    "encoder_df"
   ]
  },
  {
   "cell_type": "code",
   "execution_count": 16,
   "id": "81059825-fbfd-4e92-9222-d99b864f4e4c",
   "metadata": {},
   "outputs": [
    {
     "name": "stderr",
     "output_type": "stream",
     "text": [
      "/opt/conda/lib/python3.10/site-packages/sklearn/base.py:409: UserWarning: X does not have valid feature names, but OneHotEncoder was fitted with feature names\n",
      "  warnings.warn(\n"
     ]
    },
    {
     "data": {
      "text/plain": [
       "array([[1., 0., 0.]])"
      ]
     },
     "execution_count": 16,
     "metadata": {},
     "output_type": "execute_result"
    }
   ],
   "source": [
    "## for new data\n",
    "encoder.transform([['blue']]).toarray()"
   ]
  },
  {
   "cell_type": "code",
   "execution_count": null,
   "id": "6b038879-d1cc-4fea-8fb5-fa61d38962f8",
   "metadata": {},
   "outputs": [],
   "source": [
    "pd.concat([df,encoder_df],axis=1)"
   ]
  }
 ],
 "metadata": {
  "kernelspec": {
   "display_name": "Python 3 (ipykernel)",
   "language": "python",
   "name": "python3"
  },
  "language_info": {
   "codemirror_mode": {
    "name": "ipython",
    "version": 3
   },
   "file_extension": ".py",
   "mimetype": "text/x-python",
   "name": "python",
   "nbconvert_exporter": "python",
   "pygments_lexer": "ipython3",
   "version": "3.10.8"
  }
 },
 "nbformat": 4,
 "nbformat_minor": 5
}
